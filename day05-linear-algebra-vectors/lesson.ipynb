{
 "cells": [
  {
   "cell_type": "markdown",
   "id": "f8e727d5",
   "metadata": {},
   "source": [
    "# 🚀 Day 05 – Linear Algebra: Vectors"
   ]
  },
  {
   "cell_type": "code",
   "execution_count": null,
   "id": "c488e33e",
   "metadata": {},
   "outputs": [],
   "source": [
    "import numpy as np\n",
    "import matplotlib.pyplot as plt\n",
    "print('✅ Libraries ready!')"
   ]
  },
  {
   "cell_type": "markdown",
   "id": "37ce0dee",
   "metadata": {},
   "source": [
    "## 🔹 Creating Vectors"
   ]
  },
  {
   "cell_type": "code",
   "execution_count": null,
   "id": "ad9412fa",
   "metadata": {},
   "outputs": [],
   "source": [
    "a = np.array([3, 4])\n",
    "b = np.array([1, 2])\n",
    "print('a:', a)\n",
    "print('b:', b)"
   ]
  },
  {
   "cell_type": "markdown",
   "id": "e6f97bfe",
   "metadata": {},
   "source": [
    "## 📏 Magnitude (Length / Norm)"
   ]
  },
  {
   "cell_type": "code",
   "execution_count": null,
   "id": "03f96e26",
   "metadata": {},
   "outputs": [],
   "source": [
    "mag_a = np.linalg.norm(a)\n",
    "print('|a| =', mag_a)"
   ]
  },
  {
   "cell_type": "markdown",
   "id": "4dca6dad",
   "metadata": {},
   "source": [
    "## 🎯 Normalization (Unit Vector)"
   ]
  },
  {
   "cell_type": "code",
   "execution_count": null,
   "id": "800b620c",
   "metadata": {},
   "outputs": [],
   "source": [
    "a_norm = a / np.linalg.norm(a)\n",
    "print('Normalized a:', a_norm)\n",
    "print('Length of normalized a:', np.linalg.norm(a_norm))"
   ]
  },
  {
   "cell_type": "markdown",
   "id": "7318d44c",
   "metadata": {},
   "source": [
    "## ➕ Dot Product"
   ]
  },
  {
   "cell_type": "code",
   "execution_count": null,
   "id": "5df64762",
   "metadata": {},
   "outputs": [],
   "source": [
    "dot_ab = np.dot(a, b)\n",
    "print('a · b =', dot_ab)"
   ]
  },
  {
   "cell_type": "markdown",
   "id": "6d6772e9",
   "metadata": {},
   "source": [
    "## 📐 Cosine Similarity"
   ]
  },
  {
   "cell_type": "code",
   "execution_count": null,
   "id": "addc7b9b",
   "metadata": {},
   "outputs": [],
   "source": [
    "cos_sim = np.dot(a, b) / (np.linalg.norm(a) * np.linalg.norm(b))\n",
    "print('Cosine similarity =', cos_sim)"
   ]
  },
  {
   "cell_type": "markdown",
   "id": "efcc7f0e",
   "metadata": {},
   "source": [
    "## 🎨 Visualizing Vectors"
   ]
  },
  {
   "cell_type": "code",
   "execution_count": null,
   "id": "1e191b2b",
   "metadata": {},
   "outputs": [],
   "source": [
    "plt.figure(figsize=(5,5))\n",
    "plt.axhline(0, color='gray', linewidth=0.5)\n",
    "plt.axvline(0, color='gray', linewidth=0.5)\n",
    "plt.quiver(0, 0, a[0], a[1], angles='xy', scale_units='xy', scale=1, color='r', label='a')\n",
    "plt.quiver(0, 0, b[0], b[1], angles='xy', scale_units='xy', scale=1, color='b', label='b')\n",
    "plt.xlim(-1, 5)\n",
    "plt.ylim(-1, 5)\n",
    "plt.legend()\n",
    "plt.grid(True)\n",
    "plt.show()"
   ]
  },
  {
   "cell_type": "markdown",
   "id": "25bfaa88",
   "metadata": {},
   "source": [
    "## 🏆 Bonus: Random 5D Vectors"
   ]
  },
  {
   "cell_type": "code",
   "execution_count": null,
   "id": "8b0c6dbb",
   "metadata": {},
   "outputs": [],
   "source": [
    "x = np.random.rand(5)\n",
    "y = np.random.rand(5)\n",
    "cos_sim_5d = np.dot(x, y) / (np.linalg.norm(x) * np.linalg.norm(y))\n",
    "print('Cosine similarity (5D) =', cos_sim_5d)"
   ]
  }
 ],
 "metadata": {},
 "nbformat": 4,
 "nbformat_minor": 5
}
