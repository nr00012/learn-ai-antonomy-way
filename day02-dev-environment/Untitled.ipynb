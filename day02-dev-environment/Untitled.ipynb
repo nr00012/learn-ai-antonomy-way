{
 "cells": [
  {
   "cell_type": "code",
   "execution_count": null,
   "id": "38c68ada-a007-4c75-81c1-66e5212c65fa",
   "metadata": {},
   "outputs": [],
   "source": [
    "# Day 02 – Verify Your Python Environment\n",
    "\n",
    "import sys\n",
    "import platform\n",
    "\n",
    "def show_env_info():\n",
    "    print(\"✅ Python Version:\", sys.version)\n",
    "    print(\"💻 Platform:\", platform.system(), platform.release())\n",
    "\n",
    "if __name__ == \"__main__\":\n",
    "    show_env_info()"
   ]
  }
 ],
 "metadata": {
  "kernelspec": {
   "display_name": "Python 3 (ipykernel)",
   "language": "python",
   "name": "python3"
  },
  "language_info": {
   "codemirror_mode": {
    "name": "ipython",
    "version": 3
   },
   "file_extension": ".py",
   "mimetype": "text/x-python",
   "name": "python",
   "nbconvert_exporter": "python",
   "pygments_lexer": "ipython3",
   "version": "3.13.2"
  }
 },
 "nbformat": 4,
 "nbformat_minor": 5
}
