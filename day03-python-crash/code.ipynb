{
 "cells": [
  {
   "cell_type": "code",
   "execution_count": 4,
   "id": "2bbb123c",
   "metadata": {},
   "outputs": [
    {
     "name": "stdout",
     "output_type": "stream",
     "text": [
      "🔥 Loop count: 0\n",
      "🔥 Loop count: 1\n",
      "🔥 Loop count: 2\n",
      "🚀 You're learning AI. Respect!\n",
      "👋 Hello, I'm Nora.\n",
      "🧠 Skills: Python, Data, AI\n"
     ]
    }
   ],
   "source": [
    "# Day 03 – Python Crash Demo\n",
    "\n",
    "# Data types\n",
    "name = \"Nora\"   # string\n",
    "age = 30   # integer\n",
    "skills = [\"Python\", \"Data\", \"AI\"]   # list\n",
    "height = 1.65   # float\n",
    "is_learning = True  # boolean\n",
    "\n",
    "# Function\n",
    "def introduce(person, skill_list):\n",
    "    print(f\"👋 Hello, I'm {person}.\")\n",
    "    print(\"🧠 Skills:\", \", \".join(skill_list))\n",
    "\n",
    "# Loop\n",
    "for i in range(3):\n",
    "    print(f\"🔥 Loop count: {i}\")\n",
    "\n",
    "# Logic\n",
    "if is_learning:\n",
    "    print(\"🚀 You're learning AI. Respect!\")\n",
    "else:\n",
    "    print(\"😴 Time to wake up!\")\n",
    "\n",
    "introduce(name, skills)\n"
   ]
  }
 ],
 "metadata": {
  "kernelspec": {
   "display_name": "Python 3",
   "language": "python",
   "name": "python3"
  },
  "language_info": {
   "codemirror_mode": {
    "name": "ipython",
    "version": 3
   },
   "file_extension": ".py",
   "mimetype": "text/x-python",
   "name": "python",
   "nbconvert_exporter": "python",
   "pygments_lexer": "ipython3",
   "version": "3.13.2"
  }
 },
 "nbformat": 4,
 "nbformat_minor": 5
}
