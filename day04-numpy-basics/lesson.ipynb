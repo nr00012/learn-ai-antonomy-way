{
 "cells": [
  {
   "cell_type": "markdown",
   "id": "b3ede553",
   "metadata": {},
   "source": [
    "# 🧠 Day 04 – NumPy Basics for AI Math"
   ]
  },
  {
   "cell_type": "code",
   "execution_count": 2,
   "id": "8915bd15",
   "metadata": {},
   "outputs": [
    {
     "name": "stdout",
     "output_type": "stream",
     "text": [
      "✅ NumPy imported successfully\n"
     ]
    }
   ],
   "source": [
    "import numpy as np\n",
    "np.__version__\n",
    "print('✅ NumPy imported successfully')"
   ]
  },
  {
   "cell_type": "markdown",
   "id": "df156d30",
   "metadata": {},
   "source": [
    "## 🔢 Arrays vs Lists"
   ]
  },
  {
   "cell_type": "code",
   "execution_count": 3,
   "id": "143ecc9e",
   "metadata": {},
   "outputs": [
    {
     "name": "stdout",
     "output_type": "stream",
     "text": [
      "Python List: [1, 2, 3, 4, 5]\n",
      "NumPy Array: [1 2 3 4 5]\n",
      "Type: <class 'numpy.ndarray'>\n"
     ]
    }
   ],
   "source": [
    "lst = [1, 2, 3, 4, 5]\n",
    "arr = np.array(lst)\n",
    "print('Python List:', lst)\n",
    "print('NumPy Array:', arr)\n",
    "print('Type:', type(arr))"
   ]
  },
  {
   "cell_type": "markdown",
   "id": "a7da377a",
   "metadata": {},
   "source": [
    "## 🧮 Element-wise Math"
   ]
  },
  {
   "cell_type": "code",
   "execution_count": 4,
   "id": "df49ae69",
   "metadata": {},
   "outputs": [
    {
     "name": "stdout",
     "output_type": "stream",
     "text": [
      "List * 2 (repeats list): [1, 2, 3, 4, 5, 1, 2, 3, 4, 5]\n",
      "Array * 2 (multiplies): [ 2  4  6  8 10]\n",
      "Array + 10: [11 12 13 14 15]\n",
      "Array ** 2: [ 1  4  9 16 25]\n"
     ]
    }
   ],
   "source": [
    "print('List * 2 (repeats list):', lst * 2)\n",
    "print('Array * 2 (multiplies):', arr * 2)\n",
    "print('Array + 10:', arr + 10)\n",
    "print('Array ** 2:', arr ** 2)"
   ]
  },
  {
   "cell_type": "markdown",
   "id": "e8c03824",
   "metadata": {},
   "source": [
    "## 🔁 Slicing & Indexing"
   ]
  },
  {
   "cell_type": "code",
   "execution_count": 5,
   "id": "9eb12195",
   "metadata": {},
   "outputs": [
    {
     "name": "stdout",
     "output_type": "stream",
     "text": [
      "First element: 1\n",
      "Slice [1:4]: [2 3 4]\n",
      "Every other: [1 3 5]\n"
     ]
    }
   ],
   "source": [
    "print('First element:', arr[0])\n",
    "print('Slice [1:4]:', arr[1:4])\n",
    "print('Every other:', arr[::2])"
   ]
  },
  {
   "cell_type": "markdown",
   "id": "4fe6f0fa",
   "metadata": {},
   "source": [
    "## 🔲 Matrix Operations (2D Arrays)"
   ]
  },
  {
   "cell_type": "code",
   "execution_count": 6,
   "id": "8703774d",
   "metadata": {},
   "outputs": [
    {
     "name": "stdout",
     "output_type": "stream",
     "text": [
      "Matrix:\n",
      " [[1 2 3]\n",
      " [4 5 6]\n",
      " [7 8 9]]\n",
      "Shape: (3, 3)\n"
     ]
    }
   ],
   "source": [
    "matrix = np.array([[1,2,3],[4,5,6],[7,8,9]])\n",
    "print('Matrix:\\n', matrix)\n",
    "print('Shape:', matrix.shape)"
   ]
  },
  {
   "cell_type": "code",
   "execution_count": 7,
   "id": "b5befcea",
   "metadata": {},
   "outputs": [
    {
     "name": "stdout",
     "output_type": "stream",
     "text": [
      "Element-wise square:\n",
      " [[ 1  4  9]\n",
      " [16 25 36]\n",
      " [49 64 81]]\n",
      "Transpose:\n",
      " [[1 4 7]\n",
      " [2 5 8]\n",
      " [3 6 9]]\n"
     ]
    }
   ],
   "source": [
    "print('Element-wise square:\\n', matrix ** 2)\n",
    "print('Transpose:\\n', matrix.T)"
   ]
  },
  {
   "cell_type": "code",
   "execution_count": 8,
   "id": "aeee40cf",
   "metadata": {},
   "outputs": [
    {
     "name": "stdout",
     "output_type": "stream",
     "text": [
      "Dot with itself:\n",
      " [[ 30  36  42]\n",
      " [ 66  81  96]\n",
      " [102 126 150]]\n"
     ]
    }
   ],
   "source": [
    "# Dot product (matrix multiplication)\n",
    "print('Dot with itself:\\n', matrix @ matrix)"
   ]
  },
  {
   "cell_type": "markdown",
   "id": "a38fe584",
   "metadata": {},
   "source": [
    "## 🏎️ Bonus: Speed test (vectorization wins)"
   ]
  },
  {
   "cell_type": "code",
   "execution_count": 9,
   "id": "c58f57f1",
   "metadata": {},
   "outputs": [
    {
     "name": "stdout",
     "output_type": "stream",
     "text": [
      "1.03 ms ± 25.5 μs per loop (mean ± std. dev. of 7 runs, 1,000 loops each)\n"
     ]
    }
   ],
   "source": [
    "%%timeit\n",
    "x = np.arange(1_000_000)\n",
    "y = x * 2"
   ]
  },
  {
   "cell_type": "code",
   "execution_count": 10,
   "id": "331fd61a",
   "metadata": {},
   "outputs": [
    {
     "name": "stdout",
     "output_type": "stream",
     "text": [
      "25 ms ± 435 μs per loop (mean ± std. dev. of 7 runs, 10 loops each)\n"
     ]
    }
   ],
   "source": [
    "%%timeit\n",
    "lst = list(range(1_000_000))\n",
    "out = [v * 2 for v in lst]"
   ]
  }
 ],
 "metadata": {
  "kernelspec": {
   "display_name": "Python 3",
   "language": "python",
   "name": "python3"
  },
  "language_info": {
   "codemirror_mode": {
    "name": "ipython",
    "version": 3
   },
   "file_extension": ".py",
   "mimetype": "text/x-python",
   "name": "python",
   "nbconvert_exporter": "python",
   "pygments_lexer": "ipython3",
   "version": "3.13.2"
  }
 },
 "nbformat": 4,
 "nbformat_minor": 5
}
