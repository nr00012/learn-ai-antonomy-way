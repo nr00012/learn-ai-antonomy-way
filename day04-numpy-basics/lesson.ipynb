{
 "cells": [
  {
   "cell_type": "markdown",
   "id": "b3ede553",
   "metadata": {},
   "source": [
    "# 🧠 Day 04 – NumPy Basics for AI Math"
   ]
  },
  {
   "cell_type": "code",
   "execution_count": null,
   "id": "8915bd15",
   "metadata": {},
   "outputs": [],
   "source": [
    "import numpy as np\n",
    "np.__version__\n",
    "print('✅ NumPy imported successfully')"
   ]
  },
  {
   "cell_type": "markdown",
   "id": "df156d30",
   "metadata": {},
   "source": [
    "## 🔢 Arrays vs Lists"
   ]
  },
  {
   "cell_type": "code",
   "execution_count": null,
   "id": "143ecc9e",
   "metadata": {},
   "outputs": [],
   "source": [
    "lst = [1, 2, 3, 4, 5]\n",
    "arr = np.array(lst)\n",
    "print('Python List:', lst)\n",
    "print('NumPy Array:', arr)\n",
    "print('Type:', type(arr))"
   ]
  },
  {
   "cell_type": "markdown",
   "id": "a7da377a",
   "metadata": {},
   "source": [
    "## 🧮 Element-wise Math"
   ]
  },
  {
   "cell_type": "code",
   "execution_count": null,
   "id": "df49ae69",
   "metadata": {},
   "outputs": [],
   "source": [
    "print('List * 2 (repeats list):', lst * 2)\n",
    "print('Array * 2 (multiplies):', arr * 2)\n",
    "print('Array + 10:', arr + 10)\n",
    "print('Array ** 2:', arr ** 2)"
   ]
  },
  {
   "cell_type": "markdown",
   "id": "e8c03824",
   "metadata": {},
   "source": [
    "## 🔁 Slicing & Indexing"
   ]
  },
  {
   "cell_type": "code",
   "execution_count": null,
   "id": "9eb12195",
   "metadata": {},
   "outputs": [],
   "source": [
    "print('First element:', arr[0])\n",
    "print('Slice [1:4]:', arr[1:4])\n",
    "print('Every other:', arr[::2])"
   ]
  },
  {
   "cell_type": "markdown",
   "id": "4fe6f0fa",
   "metadata": {},
   "source": [
    "## 🔲 Matrix Operations (2D Arrays)"
   ]
  },
  {
   "cell_type": "code",
   "execution_count": null,
   "id": "8703774d",
   "metadata": {},
   "outputs": [],
   "source": [
    "matrix = np.array([[1,2,3],[4,5,6],[7,8,9]])\n",
    "print('Matrix:\\n', matrix)\n",
    "print('Shape:', matrix.shape)"
   ]
  },
  {
   "cell_type": "code",
   "execution_count": null,
   "id": "b5befcea",
   "metadata": {},
   "outputs": [],
   "source": [
    "print('Element-wise square:\\n', matrix ** 2)\n",
    "print('Transpose:\\n', matrix.T)"
   ]
  },
  {
   "cell_type": "code",
   "execution_count": null,
   "id": "aeee40cf",
   "metadata": {},
   "outputs": [],
   "source": [
    "# Dot product (matrix multiplication)\n",
    "print('Dot with itself:\\n', matrix @ matrix)"
   ]
  },
  {
   "cell_type": "markdown",
   "id": "a38fe584",
   "metadata": {},
   "source": [
    "## 🏎️ Bonus: Speed test (vectorization wins)"
   ]
  },
  {
   "cell_type": "code",
   "execution_count": null,
   "id": "c58f57f1",
   "metadata": {},
   "outputs": [],
   "source": [
    "%%timeit\n",
    "x = np.arange(1_000_000)\n",
    "y = x * 2"
   ]
  },
  {
   "cell_type": "code",
   "execution_count": null,
   "id": "331fd61a",
   "metadata": {},
   "outputs": [],
   "source": [
    "%%timeit\n",
    "lst = list(range(1_000_000))\n",
    "out = [v * 2 for v in lst]"
   ]
  }
 ],
 "metadata": {},
 "nbformat": 4,
 "nbformat_minor": 5
}
